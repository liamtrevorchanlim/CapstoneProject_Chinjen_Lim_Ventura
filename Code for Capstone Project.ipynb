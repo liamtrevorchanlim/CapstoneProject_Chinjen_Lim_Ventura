{
 "cells": [
  {
   "cell_type": "code",
   "execution_count": 1,
   "id": "dc875393-7504-4f81-96de-28a838554b07",
   "metadata": {},
   "outputs": [],
   "source": [
    "#code block 0 start\n",
    "#import all modules and libraries needed \n",
    "!pip install -q scikit-learn statsmodels seaborn\n",
    "\n",
    "\n",
    "import pandas as pd  # import csv as df (dataframe)\n",
    "import glob\n",
    "from sklearn.preprocessing import LabelEncoder, StandardScaler, OneHotEncoder\n",
    "from sklearn.cluster import KMeans\n",
    "import matplotlib.pyplot as plt\n",
    "import seaborn as sns\n",
    "import statsmodels.api as sm\n",
    "from statsmodels.stats.outliers_influence import variance_inflation_factor\n",
    "\n",
    "#importing ends here\n",
    "\n",
    "#show all columns without truncation\n",
    "pd.set_option('display.max_columns', None)       \n",
    "#show all rows without truncation\n",
    "pd.set_option('display.max_rows', None)\n",
    "#show all columns without getting clipped\n",
    "pd.set_option('display.max_colwidth', None)      \n",
    "# Code block 0 end\n"
   ]
  },
  {
   "cell_type": "code",
   "execution_count": 2,
   "id": "63c33a4e-94a1-4b0d-aca3-624cb495af85",
   "metadata": {},
   "outputs": [],
   "source": [
    "#code block 1 start\n",
    "#below are functions used to map codes as defined in the variable library \n",
    "\n",
    "def map_occupation(occupation_code):\n",
    "    if occupation_code in range(11, 15):\n",
    "        return 'Managers'\n",
    "    elif occupation_code in range(21, 27):\n",
    "        return 'Professionals'\n",
    "    elif occupation_code in range(31, 36):\n",
    "        return 'Technicians and Associate Professionals'\n",
    "    elif occupation_code in range(41, 45):\n",
    "        return 'Clerical Support Workers'\n",
    "    elif occupation_code in range(51, 55):\n",
    "        return 'Service and Sales Workers'\n",
    "    elif occupation_code in range(61, 64):\n",
    "        return 'Skilled Agricultural, Forestry and Fishery Workers'\n",
    "    elif occupation_code in range(71, 76):\n",
    "        return 'Craft and Related Trades Workers'\n",
    "    elif occupation_code in range(81, 84):\n",
    "        return 'Plant and Machine Operators and Assemblers'\n",
    "    elif occupation_code in range(91, 97):\n",
    "        return 'Elementary Occupations'\n",
    "    elif occupation_code in range(1, 4):\n",
    "        return 'Armed Forces Occupations'\n",
    "    else:\n",
    "        return 'Unknown'\n",
    "\n",
    "    \n",
    "def map_region(region):\n",
    "    if region == 13:\n",
    "        return \"NCR\"\n",
    "    else:\n",
    "        return \"Outside NCR\"\n",
    "\n",
    "def map_education(grade):\n",
    "    if grade in [1000, 2000]:\n",
    "        return \"No grade completed\"\n",
    "    elif grade in [10010, 10002]:\n",
    "        return \"Elementary Undergraduate\"\n",
    "    elif grade == 10020:\n",
    "        return \"Elementary Graduate\"\n",
    "    elif grade in [24010, 24002]:\n",
    "        return \"Junior High Undergraduate\"\n",
    "    elif grade == 24020:\n",
    "        return \"Junior High Completed\"\n",
    "    elif grade in [34011, 34021, 34031, 35001]:\n",
    "        return \"Senior High Undergraduate\"\n",
    "    elif grade in [34012, 34022, 34032, 35002]:\n",
    "        return \"Senior High Graduate\"\n",
    "    elif grade in [40010, 50010]:\n",
    "        return \"Post Secondary Undergraduate\"\n",
    "    elif 40011 <= grade <= 49999 or 50011 <= grade <= 59999:\n",
    "        return \"Post Secondary Graduate\"\n",
    "    elif grade == 60010:\n",
    "        return \"College Undergraduate\"\n",
    "    elif grade == 60000 or (60011 <= grade <= 69999) or (70000 <= grade <= 79999) or (80000 <= grade <= 89999):\n",
    "        return \"College Graduate\"\n",
    "    else:\n",
    "        return \"Other\"\n",
    "\n",
    "\n",
    "\n",
    "\n",
    "def classify_sector(code):\n",
    "    try:\n",
    "        code = int(code)\n",
    "        if 1 <= code <= 3:\n",
    "            return 'AGRICULTURE'\n",
    "        elif 5 <= code <= 43:\n",
    "            return 'INDUSTRY'\n",
    "        elif 45 <= code <= 99:\n",
    "            return 'SERVICES'\n",
    "        else:\n",
    "            return 'OTHER'\n",
    "    except:\n",
    "        return 'UNKNOWN'\n",
    "\n",
    "#functions for mapping ends here\n",
    "#code 1 block end\n"
   ]
  },
  {
   "cell_type": "code",
   "execution_count": 3,
   "id": "a0a3f09c-1242-4816-bfb5-f3e5201ca2b5",
   "metadata": {},
   "outputs": [
    {
     "ename": "ValueError",
     "evalue": "No objects to concatenate",
     "output_type": "error",
     "traceback": [
      "\u001b[1;31m---------------------------------------------------------------------------\u001b[0m",
      "\u001b[1;31mValueError\u001b[0m                                Traceback (most recent call last)",
      "Cell \u001b[1;32mIn[3], line 17\u001b[0m\n\u001b[0;32m     13\u001b[0m     \u001b[38;5;28;01melse\u001b[39;00m:\n\u001b[0;32m     14\u001b[0m         \u001b[38;5;28mprint\u001b[39m(\u001b[38;5;124mf\u001b[39m\u001b[38;5;124m\"\u001b[39m\u001b[38;5;124mSkipping file (missing PUFC25_PBASIC): \u001b[39m\u001b[38;5;132;01m{\u001b[39;00mfile\u001b[38;5;132;01m}\u001b[39;00m\u001b[38;5;124m\"\u001b[39m)\n\u001b[1;32m---> 17\u001b[0m data \u001b[38;5;241m=\u001b[39m pd\u001b[38;5;241m.\u001b[39mconcat(df_list,ignore_index\u001b[38;5;241m=\u001b[39m\u001b[38;5;28;01mTrue\u001b[39;00m)\n\u001b[0;32m     19\u001b[0m \u001b[38;5;66;03m#code below just chooses relevant column that is needed, other columns are discarded since the dataframe is too large\u001b[39;00m\n\u001b[0;32m     20\u001b[0m cols \u001b[38;5;241m=\u001b[39m [\u001b[38;5;124m'\u001b[39m\u001b[38;5;124mPUFSVYMO\u001b[39m\u001b[38;5;124m'\u001b[39m, \u001b[38;5;124m'\u001b[39m\u001b[38;5;124mPUFSVYYR\u001b[39m\u001b[38;5;124m'\u001b[39m, \u001b[38;5;124m'\u001b[39m\u001b[38;5;124mPUFC05_AGE\u001b[39m\u001b[38;5;124m'\u001b[39m,\u001b[38;5;124m'\u001b[39m\u001b[38;5;124mPUFC11_WORK\u001b[39m\u001b[38;5;124m'\u001b[39m, \u001b[38;5;124m'\u001b[39m\u001b[38;5;124mPUFC12_JOB\u001b[39m\u001b[38;5;124m'\u001b[39m, \u001b[38;5;124m'\u001b[39m\u001b[38;5;124mPUFC14_PROCC\u001b[39m\u001b[38;5;124m'\u001b[39m, \u001b[38;5;124m'\u001b[39m\u001b[38;5;124mPUFC16_PKB\u001b[39m\u001b[38;5;124m'\u001b[39m, \u001b[38;5;124m'\u001b[39m\u001b[38;5;124mPUFC04_SEX\u001b[39m\u001b[38;5;124m'\u001b[39m, \u001b[38;5;124m'\u001b[39m\u001b[38;5;124mPUFNEWEMPSTAT\u001b[39m\u001b[38;5;124m'\u001b[39m,\u001b[38;5;124m'\u001b[39m\u001b[38;5;124mPUFC27_NJOBS\u001b[39m\u001b[38;5;124m'\u001b[39m,\n\u001b[0;32m     21\u001b[0m          \u001b[38;5;124m'\u001b[39m\u001b[38;5;124mPUFC27_NJOBS\u001b[39m\u001b[38;5;124m'\u001b[39m, \u001b[38;5;124m'\u001b[39m\u001b[38;5;124mPUFC28_THOURS\u001b[39m\u001b[38;5;124m'\u001b[39m, \u001b[38;5;124m'\u001b[39m\u001b[38;5;124mPUFC18_PNWHRS\u001b[39m\u001b[38;5;124m'\u001b[39m, \u001b[38;5;124m'\u001b[39m\u001b[38;5;124mPUFC19_PHOURS\u001b[39m\u001b[38;5;124m'\u001b[39m,\u001b[38;5;124m'\u001b[39m\u001b[38;5;124mPUFC25_PBASIC\u001b[39m\u001b[38;5;124m'\u001b[39m, \u001b[38;5;124m'\u001b[39m\u001b[38;5;124mPUFC07_GRADE\u001b[39m\u001b[38;5;124m'\u001b[39m,\u001b[38;5;124m'\u001b[39m\u001b[38;5;124mPUFREG\u001b[39m\u001b[38;5;124m'\u001b[39m] \u001b[38;5;66;03m#relevant columns\u001b[39;00m\n",
      "File \u001b[1;32m~\\anaconda3\\Lib\\site-packages\\pandas\\core\\reshape\\concat.py:382\u001b[0m, in \u001b[0;36mconcat\u001b[1;34m(objs, axis, join, ignore_index, keys, levels, names, verify_integrity, sort, copy)\u001b[0m\n\u001b[0;32m    379\u001b[0m \u001b[38;5;28;01melif\u001b[39;00m copy \u001b[38;5;129;01mand\u001b[39;00m using_copy_on_write():\n\u001b[0;32m    380\u001b[0m     copy \u001b[38;5;241m=\u001b[39m \u001b[38;5;28;01mFalse\u001b[39;00m\n\u001b[1;32m--> 382\u001b[0m op \u001b[38;5;241m=\u001b[39m _Concatenator(\n\u001b[0;32m    383\u001b[0m     objs,\n\u001b[0;32m    384\u001b[0m     axis\u001b[38;5;241m=\u001b[39maxis,\n\u001b[0;32m    385\u001b[0m     ignore_index\u001b[38;5;241m=\u001b[39mignore_index,\n\u001b[0;32m    386\u001b[0m     join\u001b[38;5;241m=\u001b[39mjoin,\n\u001b[0;32m    387\u001b[0m     keys\u001b[38;5;241m=\u001b[39mkeys,\n\u001b[0;32m    388\u001b[0m     levels\u001b[38;5;241m=\u001b[39mlevels,\n\u001b[0;32m    389\u001b[0m     names\u001b[38;5;241m=\u001b[39mnames,\n\u001b[0;32m    390\u001b[0m     verify_integrity\u001b[38;5;241m=\u001b[39mverify_integrity,\n\u001b[0;32m    391\u001b[0m     copy\u001b[38;5;241m=\u001b[39mcopy,\n\u001b[0;32m    392\u001b[0m     sort\u001b[38;5;241m=\u001b[39msort,\n\u001b[0;32m    393\u001b[0m )\n\u001b[0;32m    395\u001b[0m \u001b[38;5;28;01mreturn\u001b[39;00m op\u001b[38;5;241m.\u001b[39mget_result()\n",
      "File \u001b[1;32m~\\anaconda3\\Lib\\site-packages\\pandas\\core\\reshape\\concat.py:445\u001b[0m, in \u001b[0;36m_Concatenator.__init__\u001b[1;34m(self, objs, axis, join, keys, levels, names, ignore_index, verify_integrity, copy, sort)\u001b[0m\n\u001b[0;32m    442\u001b[0m \u001b[38;5;28mself\u001b[39m\u001b[38;5;241m.\u001b[39mverify_integrity \u001b[38;5;241m=\u001b[39m verify_integrity\n\u001b[0;32m    443\u001b[0m \u001b[38;5;28mself\u001b[39m\u001b[38;5;241m.\u001b[39mcopy \u001b[38;5;241m=\u001b[39m copy\n\u001b[1;32m--> 445\u001b[0m objs, keys \u001b[38;5;241m=\u001b[39m \u001b[38;5;28mself\u001b[39m\u001b[38;5;241m.\u001b[39m_clean_keys_and_objs(objs, keys)\n\u001b[0;32m    447\u001b[0m \u001b[38;5;66;03m# figure out what our result ndim is going to be\u001b[39;00m\n\u001b[0;32m    448\u001b[0m ndims \u001b[38;5;241m=\u001b[39m \u001b[38;5;28mself\u001b[39m\u001b[38;5;241m.\u001b[39m_get_ndims(objs)\n",
      "File \u001b[1;32m~\\anaconda3\\Lib\\site-packages\\pandas\\core\\reshape\\concat.py:507\u001b[0m, in \u001b[0;36m_Concatenator._clean_keys_and_objs\u001b[1;34m(self, objs, keys)\u001b[0m\n\u001b[0;32m    504\u001b[0m     objs_list \u001b[38;5;241m=\u001b[39m \u001b[38;5;28mlist\u001b[39m(objs)\n\u001b[0;32m    506\u001b[0m \u001b[38;5;28;01mif\u001b[39;00m \u001b[38;5;28mlen\u001b[39m(objs_list) \u001b[38;5;241m==\u001b[39m \u001b[38;5;241m0\u001b[39m:\n\u001b[1;32m--> 507\u001b[0m     \u001b[38;5;28;01mraise\u001b[39;00m \u001b[38;5;167;01mValueError\u001b[39;00m(\u001b[38;5;124m\"\u001b[39m\u001b[38;5;124mNo objects to concatenate\u001b[39m\u001b[38;5;124m\"\u001b[39m)\n\u001b[0;32m    509\u001b[0m \u001b[38;5;28;01mif\u001b[39;00m keys \u001b[38;5;129;01mis\u001b[39;00m \u001b[38;5;28;01mNone\u001b[39;00m:\n\u001b[0;32m    510\u001b[0m     objs_list \u001b[38;5;241m=\u001b[39m \u001b[38;5;28mlist\u001b[39m(com\u001b[38;5;241m.\u001b[39mnot_none(\u001b[38;5;241m*\u001b[39mobjs_list))\n",
      "\u001b[1;31mValueError\u001b[0m: No objects to concatenate"
     ]
    }
   ],
   "source": [
    "#code 2 block start\n",
    "#the code for combining all the data in the csv begins here\n",
    "#load and combine all csv from microdata folder\n",
    "files = glob.glob(r\"C:\\Users\\iamt\\Documents\\UP Notes\\3rd Year - 2nd Sem\\Econ 138 WZQ\\econ_trev-20250512T062813Z-1-001\\econ_trev\\microdata_csv\"\n",
    ") #path of folder/dir containing csv files\n",
    "df_list = []\n",
    "\n",
    "#what we are doing in this loop here is basically not including the dataset that has no wage/basic pay data\n",
    "for file in files:\n",
    "    temp_df = pd.read_csv(file, low_memory=False)\n",
    "    if 'PUFC25_PBASIC' in temp_df.columns:\n",
    "        df_list.append(temp_df)\n",
    "    else:\n",
    "        print(f\"Skipping file (missing PUFC25_PBASIC): {file}\")\n",
    "\n",
    "        \n",
    "data = pd.concat(df_list,ignore_index=True)\n",
    "\n",
    "#code below just chooses relevant column that is needed, other columns are discarded since the dataframe is too large\n",
    "cols = ['PUFSVYMO', 'PUFSVYYR', 'PUFC05_AGE','PUFC11_WORK', 'PUFC12_JOB', 'PUFC14_PROCC', 'PUFC16_PKB', 'PUFC04_SEX', 'PUFNEWEMPSTAT','PUFC27_NJOBS',\n",
    "         'PUFC27_NJOBS', 'PUFC28_THOURS', 'PUFC18_PNWHRS', 'PUFC19_PHOURS','PUFC25_PBASIC', 'PUFC07_GRADE','PUFREG'] #relevant columns\n",
    "data = data[cols] #remove irrelevant columns\n",
    "data = data.loc[:, ~data.columns.duplicated()]\n",
    "\n",
    "\n",
    "# Define age bins and labels (we make a new column here, age group to group it better for clarity and presentation)\n",
    "bins = [15, 24, 34, 44, 54, 64, 100]\n",
    "labels = ['15-24', '25-34', '35-44', '45-54', '55-64', '65+']\n",
    "# Create new age group column\n",
    "data['age group'] = pd.cut(data['PUFC05_AGE'], bins=bins, labels=labels, right=True)\n",
    "\n",
    "#data['PUFC14_PROCC'] = pd.to_numeric(data['PUFC14_PROCC'].astype(str).str.strip(), errors='coerce')\n",
    "data['PUFREG'] = pd.to_numeric(data['PUFREG'].astype(str).str.strip(), errors='coerce')\n",
    "data['PUFC07_GRADE'] = pd.to_numeric(data['PUFC07_GRADE'].astype(str).str.strip(), errors='coerce')\n",
    "data['PUFC25_PBASIC'] = pd.to_numeric(data['PUFC25_PBASIC'].astype(str).str.strip(), errors='coerce')\n",
    "data = data.dropna(subset=['PUFC25_PBASIC']) #drop fields with empty data\n",
    "data['PUFC28_THOURS'] = pd.to_numeric(data['PUFC28_THOURS'].astype(str).str.strip(), errors='coerce')\n",
    "data = data.dropna(subset=['PUFC28_THOURS']) #drop fields with empty data\n",
    "data['PUFSVYMO'] = data['PUFSVYMO'].astype(str).str.zfill(2) #to ensure that all fields have 2 digits for motnhs\n",
    "data['PUFSVYYR'] = data['PUFSVYYR'].astype(int) #convert data to int\n",
    "data['PUFSVYYR'] = data['PUFSVYYR'].apply(lambda x: x + 2000 if x < 100 else x) #year in 2019 is written as 19 instead of 2019, which messed up data grouping\n",
    "data['date'] = pd.to_datetime(data['PUFSVYYR'].astype(str) + '-' + data['PUFSVYMO'] + '-01')\n",
    "data['year'] = data['date'].dt.year\n",
    "data['month'] = data['date'].dt.month\n",
    "data['education_level'] = data[\"PUFC07_GRADE\"].apply(map_education)\n",
    "data['region'] = data[\"PUFREG\"].apply(map_region)\n",
    "#data['occupation'] = data[\"PUFC14_PROCC\"].apply(map_occupation)\n",
    "#code 2 block end\n",
    "\n"
   ]
  },
  {
   "cell_type": "code",
   "execution_count": 8,
   "id": "f4703eed-46e9-440c-a996-ef3bd3a28872",
   "metadata": {},
   "outputs": [
    {
     "ename": "NameError",
     "evalue": "name 'data' is not defined",
     "output_type": "error",
     "traceback": [
      "\u001b[1;31m---------------------------------------------------------------------------\u001b[0m",
      "\u001b[1;31mNameError\u001b[0m                                 Traceback (most recent call last)",
      "Cell \u001b[1;32mIn[8], line 3\u001b[0m\n\u001b[0;32m      1\u001b[0m \u001b[38;5;66;03m#code 3 blk start\u001b[39;00m\n\u001b[0;32m      2\u001b[0m \u001b[38;5;66;03m#we group and aggregate data below to prepare it for k-means clustering\u001b[39;00m\n\u001b[1;32m----> 3\u001b[0m grouped \u001b[38;5;241m=\u001b[39m data\u001b[38;5;241m.\u001b[39mgroupby([\u001b[38;5;124m'\u001b[39m\u001b[38;5;124mdate\u001b[39m\u001b[38;5;124m'\u001b[39m, \u001b[38;5;124m'\u001b[39m\u001b[38;5;124mPUFC16_PKB\u001b[39m\u001b[38;5;124m'\u001b[39m, \u001b[38;5;124m'\u001b[39m\u001b[38;5;124mPUFC04_SEX\u001b[39m\u001b[38;5;124m'\u001b[39m, \u001b[38;5;124m'\u001b[39m\u001b[38;5;124mage group\u001b[39m\u001b[38;5;124m'\u001b[39m,\u001b[38;5;124m'\u001b[39m\u001b[38;5;124meducation_level\u001b[39m\u001b[38;5;124m'\u001b[39m,\u001b[38;5;124m'\u001b[39m\u001b[38;5;124mregion\u001b[39m\u001b[38;5;124m'\u001b[39m, \u001b[38;5;124m'\u001b[39m\u001b[38;5;124myear\u001b[39m\u001b[38;5;124m'\u001b[39m])\u001b[38;5;241m.\u001b[39magg({\u001b[38;5;124m'\u001b[39m\u001b[38;5;124mPUFC28_THOURS\u001b[39m\u001b[38;5;124m'\u001b[39m : \u001b[38;5;124m'\u001b[39m\u001b[38;5;124mmean\u001b[39m\u001b[38;5;124m'\u001b[39m, \u001b[38;5;124m'\u001b[39m\u001b[38;5;124mPUFC25_PBASIC\u001b[39m\u001b[38;5;124m'\u001b[39m : \u001b[38;5;124m'\u001b[39m\u001b[38;5;124mmedian\u001b[39m\u001b[38;5;124m'\u001b[39m})\u001b[38;5;241m.\u001b[39mreset_index()\n\u001b[0;32m      4\u001b[0m grouped \u001b[38;5;241m=\u001b[39m grouped\u001b[38;5;241m.\u001b[39mdropna(subset\u001b[38;5;241m=\u001b[39m[\u001b[38;5;124m'\u001b[39m\u001b[38;5;124mPUFC28_THOURS\u001b[39m\u001b[38;5;124m'\u001b[39m])\n\u001b[0;32m      5\u001b[0m grouped \u001b[38;5;241m=\u001b[39m grouped\u001b[38;5;241m.\u001b[39mdropna(subset\u001b[38;5;241m=\u001b[39m[\u001b[38;5;124m'\u001b[39m\u001b[38;5;124mPUFC25_PBASIC\u001b[39m\u001b[38;5;124m'\u001b[39m])\n",
      "\u001b[1;31mNameError\u001b[0m: name 'data' is not defined"
     ]
    }
   ],
   "source": [
    "#code 3 blk start\n",
    "#we group and aggregate data below to prepare it for k-means clustering\n",
    "grouped = data.groupby(['date', 'PUFC16_PKB', 'PUFC04_SEX', 'age group','education_level','region', 'year']).agg({'PUFC28_THOURS' : 'mean', 'PUFC25_PBASIC' : 'median'}).reset_index()\n",
    "grouped = grouped.dropna(subset=['PUFC28_THOURS'])\n",
    "grouped = grouped.dropna(subset=['PUFC25_PBASIC'])\n",
    "grouped['sector'] = grouped['PUFC16_PKB'].apply(classify_sector)\n",
    "\n",
    "\n",
    "\n",
    "\n",
    "grouped.rename(columns={'PUFC28_THOURS' : 'avg_hours_worked'}, inplace=True)\n",
    "grouped.rename(columns={'PUFC25_PBASIC' : 'avg_wage'}, inplace=True)\n",
    "\n",
    "avg_wage_by_year = grouped.groupby('year')['avg_wage'].mean().reset_index()\n",
    "\n",
    "\n",
    "national_avg_hours = grouped.groupby('year')['avg_hours_worked'].transform('mean')\n",
    "grouped['deviation_from_natl_hours'] = grouped['avg_hours_worked'] - national_avg_hours\n",
    "grouped['centered_deviation'] = grouped['deviation_from_natl_hours'] - grouped['deviation_from_natl_hours'].mean()\n",
    "#code 3 blk end\n"
   ]
  },
  {
   "cell_type": "code",
   "execution_count": 9,
   "id": "05740214-1a5b-4be0-9771-ef58eef52fcb",
   "metadata": {},
   "outputs": [
    {
     "ename": "NameError",
     "evalue": "name 'grouped' is not defined",
     "output_type": "error",
     "traceback": [
      "\u001b[1;31m---------------------------------------------------------------------------\u001b[0m",
      "\u001b[1;31mNameError\u001b[0m                                 Traceback (most recent call last)",
      "Cell \u001b[1;32mIn[9], line 3\u001b[0m\n\u001b[0;32m      1\u001b[0m \u001b[38;5;66;03m#code 4 blk start\u001b[39;00m\n\u001b[1;32m----> 3\u001b[0m sector_dummies \u001b[38;5;241m=\u001b[39m pd\u001b[38;5;241m.\u001b[39mget_dummies(grouped[\u001b[38;5;124m'\u001b[39m\u001b[38;5;124msector\u001b[39m\u001b[38;5;124m'\u001b[39m], prefix\u001b[38;5;241m=\u001b[39m\u001b[38;5;124m'\u001b[39m\u001b[38;5;124msector\u001b[39m\u001b[38;5;124m'\u001b[39m)\n\u001b[0;32m      5\u001b[0m X \u001b[38;5;241m=\u001b[39m pd\u001b[38;5;241m.\u001b[39mconcat([\n\u001b[0;32m      6\u001b[0m     sector_dummies,\n\u001b[0;32m      7\u001b[0m     pd\u001b[38;5;241m.\u001b[39mget_dummies(grouped[\u001b[38;5;124m'\u001b[39m\u001b[38;5;124myear\u001b[39m\u001b[38;5;124m'\u001b[39m],prefix\u001b[38;5;241m=\u001b[39m\u001b[38;5;124m'\u001b[39m\u001b[38;5;124myear\u001b[39m\u001b[38;5;124m'\u001b[39m),\n\u001b[1;32m   (...)\u001b[0m\n\u001b[0;32m     12\u001b[0m     grouped[[\u001b[38;5;124m'\u001b[39m\u001b[38;5;124mavg_hours_worked\u001b[39m\u001b[38;5;124m'\u001b[39m,\u001b[38;5;124m'\u001b[39m\u001b[38;5;124mavg_wage\u001b[39m\u001b[38;5;124m'\u001b[39m]]\n\u001b[0;32m     13\u001b[0m ], axis\u001b[38;5;241m=\u001b[39m\u001b[38;5;241m1\u001b[39m)\n\u001b[0;32m     17\u001b[0m \u001b[38;5;66;03m##label_sex = LabelEncoder()\u001b[39;00m\n\u001b[0;32m     18\u001b[0m \u001b[38;5;66;03m##label_age = LabelEncoder()\u001b[39;00m\n\u001b[0;32m     19\u001b[0m \u001b[38;5;66;03m##label_industry = LabelEncoder()\u001b[39;00m\n\u001b[1;32m   (...)\u001b[0m\n\u001b[0;32m     24\u001b[0m \n\u001b[0;32m     25\u001b[0m \u001b[38;5;66;03m# Standardize\u001b[39;00m\n",
      "\u001b[1;31mNameError\u001b[0m: name 'grouped' is not defined"
     ]
    }
   ],
   "source": [
    "#code 4 blk start\n",
    "\n",
    "sector_dummies = pd.get_dummies(grouped['sector'], prefix='sector')\n",
    "\n",
    "X = pd.concat([\n",
    "    sector_dummies,\n",
    "    pd.get_dummies(grouped['year'],prefix='year'),\n",
    "    pd.get_dummies(grouped['region'],prefix='region'),\n",
    "    pd.get_dummies(grouped['education_level'],prefix='education_level'),\n",
    "    pd.get_dummies(grouped['PUFC04_SEX'], prefix='sex'),\n",
    "    pd.get_dummies(grouped['age group'], prefix='age'),\n",
    "    grouped[['avg_hours_worked','avg_wage']]\n",
    "], axis=1)\n",
    "\n",
    "\n",
    "\n",
    "##label_sex = LabelEncoder()\n",
    "##label_age = LabelEncoder()\n",
    "##label_industry = LabelEncoder()\n",
    "##\n",
    "##grouped['sex_encoded'] = label_sex.fit_transform(grouped['PUFC04_SEX'])\n",
    "##grouped['age_encoded'] = label_age.fit_transform(grouped['age group'])\n",
    "##grouped['industry_encoded'] = label_industry.fit_transform(grouped['PUFC16_PKB'])\n",
    "\n",
    "# Standardize\n",
    "scaler = StandardScaler()\n",
    "X_scaled = scaler.fit_transform(X)\n",
    "\n",
    "# Fit KMeans\n",
    "kmeans = KMeans(n_clusters=3, random_state=42) #we choose 3 clusters for simplicity, and random_state = 42 so that results will not vary that much per run\n",
    "grouped['cluster'] = kmeans.fit_predict(X_scaled)\n",
    "\n",
    "\n",
    "#occupation_mode = grouped.groupby('cluster')['occupation'].agg(lambda x: x.mode()[0])\n",
    "sector_mode = grouped.groupby('cluster')['sector'].agg(lambda x: x.mode()[0])\n",
    "region_mode = grouped.groupby('cluster')['region'].agg(lambda x: x.mode()[0])\n",
    "sex_mode = grouped.groupby('cluster')['PUFC04_SEX'].agg(lambda x: x.mode()[0])\n",
    "educ_mode = grouped.groupby('cluster')['education_level'].agg(lambda x: x.mode()[0])\n",
    "age_mode = grouped.groupby('cluster')['age group'].agg(lambda x: x.mode()[0])\n",
    "avg_hours = grouped.groupby('cluster')['avg_hours_worked'].mean()\n",
    "avg_wage = grouped.groupby('cluster')['avg_wage'].mean()\n",
    "\n",
    "cluster_summary = pd.DataFrame({\n",
    "    'Most Common Sector': sector_mode,\n",
    "    'Most Common Region': region_mode,\n",
    "    'Most Common Sex': sex_mode,\n",
    "    'Most Common Educ Level' : educ_mode,\n",
    "    'Most Common Age Group': age_mode,\n",
    "    'Average Working Hours': avg_hours.round(2),\n",
    "    'Average Wage': avg_wage.round(2)\n",
    "})\n",
    "\n",
    "print(cluster_summary) #we print cluster_summary to provide a tableview form for analysis\n",
    "#code 4 block end\n"
   ]
  },
  {
   "cell_type": "code",
   "execution_count": 12,
   "id": "5d714a66-4547-4c4a-b1ef-1e8930566a33",
   "metadata": {},
   "outputs": [
    {
     "ename": "NameError",
     "evalue": "name 'grouped' is not defined",
     "output_type": "error",
     "traceback": [
      "\u001b[1;31m---------------------------------------------------------------------------\u001b[0m",
      "\u001b[1;31mNameError\u001b[0m                                 Traceback (most recent call last)",
      "Cell \u001b[1;32mIn[12], line 6\u001b[0m\n\u001b[0;32m      1\u001b[0m \u001b[38;5;66;03m#code 5 blk start\u001b[39;00m\n\u001b[0;32m      2\u001b[0m \u001b[38;5;66;03m#code below shows linear regression\u001b[39;00m\n\u001b[0;32m      3\u001b[0m \n\u001b[0;32m      4\u001b[0m \u001b[38;5;66;03m#the first step for the linear regression would be to choose the target (average daily wage) and features\u001b[39;00m\n\u001b[0;32m      5\u001b[0m features \u001b[38;5;241m=\u001b[39m [\u001b[38;5;124m'\u001b[39m\u001b[38;5;124msector\u001b[39m\u001b[38;5;124m'\u001b[39m, \u001b[38;5;124m'\u001b[39m\u001b[38;5;124mPUFC04_SEX\u001b[39m\u001b[38;5;124m'\u001b[39m, \u001b[38;5;124m'\u001b[39m\u001b[38;5;124mage group\u001b[39m\u001b[38;5;124m'\u001b[39m, \u001b[38;5;124m'\u001b[39m\u001b[38;5;124meducation_level\u001b[39m\u001b[38;5;124m'\u001b[39m, \u001b[38;5;124m'\u001b[39m\u001b[38;5;124mregion\u001b[39m\u001b[38;5;124m'\u001b[39m, \u001b[38;5;124m'\u001b[39m\u001b[38;5;124myear\u001b[39m\u001b[38;5;124m'\u001b[39m] \u001b[38;5;66;03m#sex 01 - male, 02- female ; year (2019-2023)\u001b[39;00m\n\u001b[1;32m----> 6\u001b[0m A \u001b[38;5;241m=\u001b[39m pd\u001b[38;5;241m.\u001b[39mget_dummies(grouped[features], drop_first\u001b[38;5;241m=\u001b[39m\u001b[38;5;28;01mTrue\u001b[39;00m)\n\u001b[0;32m      7\u001b[0m A[\u001b[38;5;124m'\u001b[39m\u001b[38;5;124mdeviation_from_natl_hours\u001b[39m\u001b[38;5;124m'\u001b[39m] \u001b[38;5;241m=\u001b[39m grouped[\u001b[38;5;124m'\u001b[39m\u001b[38;5;124mcentered_deviation\u001b[39m\u001b[38;5;124m'\u001b[39m]\n\u001b[0;32m     10\u001b[0m \u001b[38;5;28;01mif\u001b[39;00m \u001b[38;5;124m'\u001b[39m\u001b[38;5;124msector_SERVICES\u001b[39m\u001b[38;5;124m'\u001b[39m \u001b[38;5;129;01min\u001b[39;00m A\u001b[38;5;241m.\u001b[39mcolumns:\n",
      "\u001b[1;31mNameError\u001b[0m: name 'grouped' is not defined"
     ]
    }
   ],
   "source": [
    "#code 5 blk start\n",
    "#code below shows linear regression\n",
    "\n",
    "#the first step for the linear regression would be to choose the target (average daily wage) and features\n",
    "features = ['sector', 'PUFC04_SEX', 'age group', 'education_level', 'region', 'year'] #sex 01 - male, 02- female ; year (2019-2023)\n",
    "A = pd.get_dummies(grouped[features], drop_first=True)\n",
    "A['deviation_from_natl_hours'] = grouped['centered_deviation']\n",
    "\n",
    "\n",
    "if 'sector_SERVICES' in A.columns:\n",
    "    A['services_x_deviation'] = A['sector_SERVICES'] * A['deviation_from_natl_hours']\n",
    "if 'sector_INDUSTRY' in A.columns:\n",
    "    A['industry_x_deviation'] = A['sector_INDUSTRY'] * A['deviation_from_natl_hours']\n",
    "\n",
    "for col in A.columns:\n",
    "    if col.startswith(\"year_\"):\n",
    "        A[f'{col}_x_deviation'] = A[col] * A['deviation_from_natl_hours']\n",
    "\n",
    "A = sm.add_constant(A)\n",
    "\n",
    "B = grouped['avg_wage']\n",
    "\n",
    "# code below just ensures that everything is int-type (since importing the values from the dataset usually results to string-type)\n",
    "A = A.apply(pd.to_numeric, errors='coerce')\n",
    "B = pd.to_numeric(B, errors='coerce')\n",
    "\n",
    "#we drop rows with empty values\n",
    "valid = A.notnull().all(axis=1) & B.notnull()\n",
    "A = A[valid]\n",
    "B = B[valid]\n",
    "\n",
    "#convert bool-type to int-type \n",
    "A = A.astype({col: 'int' for col in A.select_dtypes(bool).columns})\n",
    "\n",
    "#we check here if all the variables are valid\n",
    "print(\"=== A.dtypes ===\")\n",
    "print(A.dtypes)\n",
    "print(\"\\n=== B.dtype ===\")\n",
    "print(B.dtype)\n",
    "print(\"\\nAny object dtype in A:\", A.dtypes[A.dtypes == 'object'])\n",
    "print(\"\\nAny NaNs in A?\", A.isnull().any().any())\n",
    "print(\"Any NaNs in B?\", B.isnull().any())\n",
    "\n",
    "#fit the regression model\n",
    "model = sm.OLS(B, A).fit()\n",
    "\n",
    "#show summary\n",
    "print(model.summary())\n",
    "\n",
    "#code 5 block end\n"
   ]
  },
  {
   "cell_type": "code",
   "execution_count": 13,
   "id": "e65e1eab-31a4-421a-94f5-6a97a191b090",
   "metadata": {},
   "outputs": [
    {
     "ename": "NameError",
     "evalue": "name 'grouped' is not defined",
     "output_type": "error",
     "traceback": [
      "\u001b[1;31m---------------------------------------------------------------------------\u001b[0m",
      "\u001b[1;31mNameError\u001b[0m                                 Traceback (most recent call last)",
      "Cell \u001b[1;32mIn[13], line 2\u001b[0m\n\u001b[0;32m      1\u001b[0m \u001b[38;5;66;03m#code 6 blk start\u001b[39;00m\n\u001b[1;32m----> 2\u001b[0m grouped \u001b[38;5;241m=\u001b[39m grouped\u001b[38;5;241m.\u001b[39mloc[A\u001b[38;5;241m.\u001b[39mindex]  \u001b[38;5;66;03m# align with regression data\u001b[39;00m\n\u001b[0;32m      3\u001b[0m grouped[\u001b[38;5;124m'\u001b[39m\u001b[38;5;124mpredicted_wage\u001b[39m\u001b[38;5;124m'\u001b[39m] \u001b[38;5;241m=\u001b[39m model\u001b[38;5;241m.\u001b[39mpredict(A)\n",
      "\u001b[1;31mNameError\u001b[0m: name 'grouped' is not defined"
     ]
    }
   ],
   "source": [
    "#code 6 blk start\n",
    "grouped = grouped.loc[A.index]  # align with regression data\n",
    "grouped['predicted_wage'] = model.predict(A) # preditction \n",
    "#code 6 blk end\n"
   ]
  },
  {
   "cell_type": "code",
   "execution_count": 14,
   "id": "89761cd5-d7f0-44c5-a85c-acd3b6e82a15",
   "metadata": {},
   "outputs": [
    {
     "ename": "NameError",
     "evalue": "name 'plt' is not defined",
     "output_type": "error",
     "traceback": [
      "\u001b[1;31m---------------------------------------------------------------------------\u001b[0m",
      "\u001b[1;31mNameError\u001b[0m                                 Traceback (most recent call last)",
      "Cell \u001b[1;32mIn[14], line 6\u001b[0m\n\u001b[0;32m      1\u001b[0m \u001b[38;5;66;03m#visualization of data begins here\u001b[39;00m\n\u001b[0;32m      2\u001b[0m \n\u001b[0;32m      3\u001b[0m \u001b[38;5;66;03m#paste the code block per number here, basically from the comment up to plt.show()\u001b[39;00m\n\u001b[0;32m      4\u001b[0m \n\u001b[0;32m      5\u001b[0m \u001b[38;5;66;03m# 1. Cluster-wise distribution of average working hours\u001b[39;00m\n\u001b[1;32m----> 6\u001b[0m plt\u001b[38;5;241m.\u001b[39mfigure(figsize\u001b[38;5;241m=\u001b[39m(\u001b[38;5;241m8\u001b[39m, \u001b[38;5;241m5\u001b[39m))\n\u001b[0;32m      7\u001b[0m sns\u001b[38;5;241m.\u001b[39mboxplot(x\u001b[38;5;241m=\u001b[39m\u001b[38;5;124m'\u001b[39m\u001b[38;5;124mcluster\u001b[39m\u001b[38;5;124m'\u001b[39m, y\u001b[38;5;241m=\u001b[39m\u001b[38;5;124m'\u001b[39m\u001b[38;5;124mavg_hours_worked\u001b[39m\u001b[38;5;124m'\u001b[39m, data\u001b[38;5;241m=\u001b[39mgrouped)\n\u001b[0;32m      8\u001b[0m plt\u001b[38;5;241m.\u001b[39mtitle(\u001b[38;5;124m'\u001b[39m\u001b[38;5;124mCluster-wise Distribution of Average Working Hours\u001b[39m\u001b[38;5;124m'\u001b[39m)\n",
      "\u001b[1;31mNameError\u001b[0m: name 'plt' is not defined"
     ]
    }
   ],
   "source": [
    "#visualization of data begins here\n",
    "\n",
    "#paste the code block per number here, basically from the comment up to plt.show()\n",
    "\n",
    "# 1. Cluster-wise distribution of average working hours\n",
    "plt.figure(figsize=(8, 5))\n",
    "sns.boxplot(x='cluster', y='avg_hours_worked', data=grouped)\n",
    "plt.title('Cluster-wise Distribution of Average Working Hours')\n",
    "plt.xlabel('Cluster')\n",
    "plt.ylabel('Average Working Hours')\n",
    "plt.grid(True)\n",
    "plt.tight_layout()\n",
    "plt.show()\n"
   ]
  },
  {
   "cell_type": "code",
   "execution_count": 15,
   "id": "5180f091-9bbe-462c-af0f-cebca87b266b",
   "metadata": {},
   "outputs": [
    {
     "ename": "NameError",
     "evalue": "name 'plt' is not defined",
     "output_type": "error",
     "traceback": [
      "\u001b[1;31m---------------------------------------------------------------------------\u001b[0m",
      "\u001b[1;31mNameError\u001b[0m                                 Traceback (most recent call last)",
      "Cell \u001b[1;32mIn[15], line 2\u001b[0m\n\u001b[0;32m      1\u001b[0m \u001b[38;5;66;03m# 2. Cluster-wise distribution of average wage\u001b[39;00m\n\u001b[1;32m----> 2\u001b[0m plt\u001b[38;5;241m.\u001b[39mfigure(figsize\u001b[38;5;241m=\u001b[39m(\u001b[38;5;241m8\u001b[39m, \u001b[38;5;241m5\u001b[39m))\n\u001b[0;32m      3\u001b[0m sns\u001b[38;5;241m.\u001b[39mboxplot(x\u001b[38;5;241m=\u001b[39m\u001b[38;5;124m'\u001b[39m\u001b[38;5;124mcluster\u001b[39m\u001b[38;5;124m'\u001b[39m, y\u001b[38;5;241m=\u001b[39m\u001b[38;5;124m'\u001b[39m\u001b[38;5;124mavg_wage\u001b[39m\u001b[38;5;124m'\u001b[39m, data\u001b[38;5;241m=\u001b[39mgrouped)\n\u001b[0;32m      4\u001b[0m plt\u001b[38;5;241m.\u001b[39mtitle(\u001b[38;5;124m'\u001b[39m\u001b[38;5;124mCluster-wise Distribution of Average Wage\u001b[39m\u001b[38;5;124m'\u001b[39m)\n",
      "\u001b[1;31mNameError\u001b[0m: name 'plt' is not defined"
     ]
    }
   ],
   "source": [
    "# 2. Cluster-wise distribution of average wage\n",
    "plt.figure(figsize=(8, 5))\n",
    "sns.boxplot(x='cluster', y='avg_wage', data=grouped)\n",
    "plt.title('Cluster-wise Distribution of Average Wage')\n",
    "plt.xlabel('Cluster')\n",
    "plt.ylabel('Average Wage')\n",
    "plt.grid(True)\n",
    "plt.tight_layout()\n",
    "plt.show()\n"
   ]
  },
  {
   "cell_type": "code",
   "execution_count": 16,
   "id": "231609f9-bbbf-41cb-9b72-4c14dcfc22d6",
   "metadata": {},
   "outputs": [
    {
     "ename": "NameError",
     "evalue": "name 'plt' is not defined",
     "output_type": "error",
     "traceback": [
      "\u001b[1;31m---------------------------------------------------------------------------\u001b[0m",
      "\u001b[1;31mNameError\u001b[0m                                 Traceback (most recent call last)",
      "Cell \u001b[1;32mIn[16], line 2\u001b[0m\n\u001b[0;32m      1\u001b[0m \u001b[38;5;66;03m# 3. Scatter plot of wage vs. hours colored by cluster\u001b[39;00m\n\u001b[1;32m----> 2\u001b[0m plt\u001b[38;5;241m.\u001b[39mfigure(figsize\u001b[38;5;241m=\u001b[39m(\u001b[38;5;241m8\u001b[39m, \u001b[38;5;241m6\u001b[39m))\n\u001b[0;32m      3\u001b[0m sns\u001b[38;5;241m.\u001b[39mscatterplot(data\u001b[38;5;241m=\u001b[39mgrouped, x\u001b[38;5;241m=\u001b[39m\u001b[38;5;124m'\u001b[39m\u001b[38;5;124mavg_hours_worked\u001b[39m\u001b[38;5;124m'\u001b[39m, y\u001b[38;5;241m=\u001b[39m\u001b[38;5;124m'\u001b[39m\u001b[38;5;124mavg_wage\u001b[39m\u001b[38;5;124m'\u001b[39m, hue\u001b[38;5;241m=\u001b[39m\u001b[38;5;124m'\u001b[39m\u001b[38;5;124mcluster\u001b[39m\u001b[38;5;124m'\u001b[39m, palette\u001b[38;5;241m=\u001b[39m\u001b[38;5;124m'\u001b[39m\u001b[38;5;124mSet2\u001b[39m\u001b[38;5;124m'\u001b[39m, s\u001b[38;5;241m=\u001b[39m\u001b[38;5;241m80\u001b[39m)\n\u001b[0;32m      4\u001b[0m plt\u001b[38;5;241m.\u001b[39mtitle(\u001b[38;5;124m'\u001b[39m\u001b[38;5;124mClusters Based on Wage and Working Hours\u001b[39m\u001b[38;5;124m'\u001b[39m)\n",
      "\u001b[1;31mNameError\u001b[0m: name 'plt' is not defined"
     ]
    }
   ],
   "source": [
    "# 3. Scatter plot of wage vs. hours colored by cluster\n",
    "plt.figure(figsize=(8, 6))\n",
    "sns.scatterplot(data=grouped, x='avg_hours_worked', y='avg_wage', hue='cluster', palette='Set2', s=80)\n",
    "plt.title('Clusters Based on Wage and Working Hours')\n",
    "plt.xlabel('Average Hours Worked')\n",
    "plt.ylabel('Average Wage')\n",
    "plt.grid(True)\n",
    "plt.tight_layout()\n",
    "plt.show()\n"
   ]
  },
  {
   "cell_type": "code",
   "execution_count": 17,
   "id": "a32343a7-b36c-4981-b332-67989d3191ec",
   "metadata": {},
   "outputs": [
    {
     "ename": "NameError",
     "evalue": "name 'grouped' is not defined",
     "output_type": "error",
     "traceback": [
      "\u001b[1;31m---------------------------------------------------------------------------\u001b[0m",
      "\u001b[1;31mNameError\u001b[0m                                 Traceback (most recent call last)",
      "Cell \u001b[1;32mIn[17], line 2\u001b[0m\n\u001b[0;32m      1\u001b[0m \u001b[38;5;66;03m# 4. Multivariate pairplot\u001b[39;00m\n\u001b[1;32m----> 2\u001b[0m merged \u001b[38;5;241m=\u001b[39m grouped\u001b[38;5;241m.\u001b[39mcopy()\n\u001b[0;32m      3\u001b[0m merged[\u001b[38;5;124m'\u001b[39m\u001b[38;5;124mcluster\u001b[39m\u001b[38;5;124m'\u001b[39m] \u001b[38;5;241m=\u001b[39m grouped[\u001b[38;5;124m'\u001b[39m\u001b[38;5;124mcluster\u001b[39m\u001b[38;5;124m'\u001b[39m]\u001b[38;5;241m.\u001b[39mastype(\u001b[38;5;28mstr\u001b[39m)\n\u001b[0;32m      4\u001b[0m sns\u001b[38;5;241m.\u001b[39mpairplot(merged[[\u001b[38;5;124m'\u001b[39m\u001b[38;5;124mavg_hours_worked\u001b[39m\u001b[38;5;124m'\u001b[39m, \u001b[38;5;124m'\u001b[39m\u001b[38;5;124mavg_wage\u001b[39m\u001b[38;5;124m'\u001b[39m, \u001b[38;5;124m'\u001b[39m\u001b[38;5;124mcluster\u001b[39m\u001b[38;5;124m'\u001b[39m]], hue\u001b[38;5;241m=\u001b[39m\u001b[38;5;124m'\u001b[39m\u001b[38;5;124mcluster\u001b[39m\u001b[38;5;124m'\u001b[39m, palette\u001b[38;5;241m=\u001b[39m\u001b[38;5;124m'\u001b[39m\u001b[38;5;124mSet2\u001b[39m\u001b[38;5;124m'\u001b[39m)\n",
      "\u001b[1;31mNameError\u001b[0m: name 'grouped' is not defined"
     ]
    }
   ],
   "source": [
    "# 4. Multivariate pairplot\n",
    "merged = grouped.copy()\n",
    "merged['cluster'] = grouped['cluster'].astype(str)\n",
    "sns.pairplot(merged[['avg_hours_worked', 'avg_wage', 'cluster']], hue='cluster', palette='Set2')\n",
    "plt.show()\n",
    "\n"
   ]
  },
  {
   "cell_type": "code",
   "execution_count": 18,
   "id": "13f8d0fb-a5cb-4710-8fcd-8bbe350251b7",
   "metadata": {},
   "outputs": [
    {
     "ename": "NameError",
     "evalue": "name 'plt' is not defined",
     "output_type": "error",
     "traceback": [
      "\u001b[1;31m---------------------------------------------------------------------------\u001b[0m",
      "\u001b[1;31mNameError\u001b[0m                                 Traceback (most recent call last)",
      "Cell \u001b[1;32mIn[18], line 2\u001b[0m\n\u001b[0;32m      1\u001b[0m \u001b[38;5;66;03m#1. Trend of average wages over time\u001b[39;00m\n\u001b[1;32m----> 2\u001b[0m plt\u001b[38;5;241m.\u001b[39mfigure(figsize\u001b[38;5;241m=\u001b[39m(\u001b[38;5;241m10\u001b[39m, \u001b[38;5;241m6\u001b[39m))\n\u001b[0;32m      3\u001b[0m sns\u001b[38;5;241m.\u001b[39mlineplot(data\u001b[38;5;241m=\u001b[39mavg_wage_by_year, x\u001b[38;5;241m=\u001b[39m\u001b[38;5;124m'\u001b[39m\u001b[38;5;124myear\u001b[39m\u001b[38;5;124m'\u001b[39m, y\u001b[38;5;241m=\u001b[39m\u001b[38;5;124m'\u001b[39m\u001b[38;5;124mavg_wage\u001b[39m\u001b[38;5;124m'\u001b[39m, marker\u001b[38;5;241m=\u001b[39m\u001b[38;5;124m'\u001b[39m\u001b[38;5;124mo\u001b[39m\u001b[38;5;124m'\u001b[39m)\n\u001b[0;32m      4\u001b[0m plt\u001b[38;5;241m.\u001b[39mtitle(\u001b[38;5;124m'\u001b[39m\u001b[38;5;124mAverage Wage Over Time (2019-2023)\u001b[39m\u001b[38;5;124m'\u001b[39m, fontsize\u001b[38;5;241m=\u001b[39m\u001b[38;5;241m16\u001b[39m)\n",
      "\u001b[1;31mNameError\u001b[0m: name 'plt' is not defined"
     ]
    }
   ],
   "source": [
    "#1. Trend of average wages over time\n",
    "plt.figure(figsize=(10, 6))\n",
    "sns.lineplot(data=avg_wage_by_year, x='year', y='avg_wage', marker='o')\n",
    "plt.title('Average Wage Over Time (2019-2023)', fontsize=16)\n",
    "plt.xlabel('Year', fontsize=12)\n",
    "plt.ylabel('Average Wage', fontsize=12)\n",
    "plt.grid(True)\n",
    "plt.tight_layout()\n",
    "plt.show()\n"
   ]
  },
  {
   "cell_type": "code",
   "execution_count": 19,
   "id": "dad5832f-925f-4e4e-bf15-c36af371a901",
   "metadata": {},
   "outputs": [
    {
     "ename": "NameError",
     "evalue": "name 'plt' is not defined",
     "output_type": "error",
     "traceback": [
      "\u001b[1;31m---------------------------------------------------------------------------\u001b[0m",
      "\u001b[1;31mNameError\u001b[0m                                 Traceback (most recent call last)",
      "Cell \u001b[1;32mIn[19], line 2\u001b[0m\n\u001b[0;32m      1\u001b[0m \u001b[38;5;66;03m# 2. Predicted average wage by education level\u001b[39;00m\n\u001b[1;32m----> 2\u001b[0m plt\u001b[38;5;241m.\u001b[39mfigure(figsize\u001b[38;5;241m=\u001b[39m(\u001b[38;5;241m10\u001b[39m, \u001b[38;5;241m6\u001b[39m))\n\u001b[0;32m      3\u001b[0m sns\u001b[38;5;241m.\u001b[39mbarplot(data\u001b[38;5;241m=\u001b[39mgrouped, x\u001b[38;5;241m=\u001b[39m\u001b[38;5;124m'\u001b[39m\u001b[38;5;124meducation_level\u001b[39m\u001b[38;5;124m'\u001b[39m, y\u001b[38;5;241m=\u001b[39m\u001b[38;5;124m'\u001b[39m\u001b[38;5;124mpredicted_wage\u001b[39m\u001b[38;5;124m'\u001b[39m, errorbar\u001b[38;5;241m=\u001b[39m\u001b[38;5;28;01mNone\u001b[39;00m)\n\u001b[0;32m      4\u001b[0m plt\u001b[38;5;241m.\u001b[39mxticks(rotation\u001b[38;5;241m=\u001b[39m\u001b[38;5;241m45\u001b[39m)\n",
      "\u001b[1;31mNameError\u001b[0m: name 'plt' is not defined"
     ]
    }
   ],
   "source": [
    "# 2. Predicted average wage by education level\n",
    "plt.figure(figsize=(10, 6))\n",
    "sns.barplot(data=grouped, x='education_level', y='predicted_wage', errorbar=None)\n",
    "plt.xticks(rotation=45)\n",
    "plt.title(\"Predicted Average Daily Wage by Education Level\")\n",
    "plt.ylabel(\"Predicted Wage\")\n",
    "plt.tight_layout()\n",
    "plt.show()\n"
   ]
  },
  {
   "cell_type": "code",
   "execution_count": 20,
   "id": "387c7844-e199-4bac-aeef-1c920931cbdb",
   "metadata": {},
   "outputs": [
    {
     "ename": "NameError",
     "evalue": "name 'plt' is not defined",
     "output_type": "error",
     "traceback": [
      "\u001b[1;31m---------------------------------------------------------------------------\u001b[0m",
      "\u001b[1;31mNameError\u001b[0m                                 Traceback (most recent call last)",
      "Cell \u001b[1;32mIn[20], line 2\u001b[0m\n\u001b[0;32m      1\u001b[0m \u001b[38;5;66;03m# 3. Predicted wage over time\u001b[39;00m\n\u001b[1;32m----> 2\u001b[0m plt\u001b[38;5;241m.\u001b[39mfigure(figsize\u001b[38;5;241m=\u001b[39m(\u001b[38;5;241m10\u001b[39m, \u001b[38;5;241m6\u001b[39m))\n\u001b[0;32m      3\u001b[0m sns\u001b[38;5;241m.\u001b[39mlineplot(data\u001b[38;5;241m=\u001b[39mgrouped, x\u001b[38;5;241m=\u001b[39m\u001b[38;5;124m'\u001b[39m\u001b[38;5;124myear\u001b[39m\u001b[38;5;124m'\u001b[39m, y\u001b[38;5;241m=\u001b[39m\u001b[38;5;124m'\u001b[39m\u001b[38;5;124mpredicted_wage\u001b[39m\u001b[38;5;124m'\u001b[39m, marker\u001b[38;5;241m=\u001b[39m\u001b[38;5;124m'\u001b[39m\u001b[38;5;124mo\u001b[39m\u001b[38;5;124m'\u001b[39m)\n\u001b[0;32m      4\u001b[0m plt\u001b[38;5;241m.\u001b[39mtitle(\u001b[38;5;124m\"\u001b[39m\u001b[38;5;124mPredicted Wage Over Time\u001b[39m\u001b[38;5;124m\"\u001b[39m)\n",
      "\u001b[1;31mNameError\u001b[0m: name 'plt' is not defined"
     ]
    }
   ],
   "source": [
    "# 3. Predicted wage over time\n",
    "plt.figure(figsize=(10, 6))\n",
    "sns.lineplot(data=grouped, x='year', y='predicted_wage', marker='o')\n",
    "plt.title(\"Predicted Wage Over Time\")\n",
    "plt.xlabel(\"Year\")\n",
    "plt.ylabel(\"Predicted Wage\")\n",
    "plt.grid(True)\n",
    "plt.tight_layout()\n",
    "plt.show()\n"
   ]
  },
  {
   "cell_type": "code",
   "execution_count": 21,
   "id": "c611124f-3f5d-470e-a2b3-773256ef170f",
   "metadata": {},
   "outputs": [
    {
     "ename": "NameError",
     "evalue": "name 'plt' is not defined",
     "output_type": "error",
     "traceback": [
      "\u001b[1;31m---------------------------------------------------------------------------\u001b[0m",
      "\u001b[1;31mNameError\u001b[0m                                 Traceback (most recent call last)",
      "Cell \u001b[1;32mIn[21], line 2\u001b[0m\n\u001b[0;32m      1\u001b[0m \u001b[38;5;66;03m# 4. Predicted wage by region\u001b[39;00m\n\u001b[1;32m----> 2\u001b[0m plt\u001b[38;5;241m.\u001b[39mfigure(figsize\u001b[38;5;241m=\u001b[39m(\u001b[38;5;241m12\u001b[39m, \u001b[38;5;241m6\u001b[39m))\n\u001b[0;32m      3\u001b[0m sns\u001b[38;5;241m.\u001b[39mboxplot(data\u001b[38;5;241m=\u001b[39mgrouped, x\u001b[38;5;241m=\u001b[39m\u001b[38;5;124m'\u001b[39m\u001b[38;5;124mregion\u001b[39m\u001b[38;5;124m'\u001b[39m, y\u001b[38;5;241m=\u001b[39m\u001b[38;5;124m'\u001b[39m\u001b[38;5;124mpredicted_wage\u001b[39m\u001b[38;5;124m'\u001b[39m)\n\u001b[0;32m      4\u001b[0m plt\u001b[38;5;241m.\u001b[39mtitle(\u001b[38;5;124m\"\u001b[39m\u001b[38;5;124mPredicted Wage by Region\u001b[39m\u001b[38;5;124m\"\u001b[39m)\n",
      "\u001b[1;31mNameError\u001b[0m: name 'plt' is not defined"
     ]
    }
   ],
   "source": [
    "# 4. Predicted wage by region\n",
    "plt.figure(figsize=(12, 6))\n",
    "sns.boxplot(data=grouped, x='region', y='predicted_wage')\n",
    "plt.title(\"Predicted Wage by Region\")\n",
    "plt.xticks(rotation=45)\n",
    "plt.ylabel(\"Predicted Wage\")\n",
    "plt.tight_layout()\n",
    "plt.show()\n"
   ]
  },
  {
   "cell_type": "code",
   "execution_count": null,
   "id": "afcb7990-2b2c-4432-9c91-2a6d2406b162",
   "metadata": {},
   "outputs": [],
   "source": []
  }
 ],
 "metadata": {
  "kernelspec": {
   "display_name": "Python 3 (ipykernel)",
   "language": "python",
   "name": "python3"
  },
  "language_info": {
   "codemirror_mode": {
    "name": "ipython",
    "version": 3
   },
   "file_extension": ".py",
   "mimetype": "text/x-python",
   "name": "python",
   "nbconvert_exporter": "python",
   "pygments_lexer": "ipython3",
   "version": "3.12.7"
  }
 },
 "nbformat": 4,
 "nbformat_minor": 5
}
